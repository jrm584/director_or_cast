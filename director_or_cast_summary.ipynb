{
 "cells": [
  {
   "cell_type": "code",
   "execution_count": 3,
   "metadata": {},
   "outputs": [],
   "source": [
    "import pandas as pd\n",
    "import numpy as np\n",
    "from sklearn import tree\n",
    "from sklearn.tree import DecisionTreeClassifier\n",
    "from sklearn.preprocessing import KBinsDiscretizer\n",
    "from sklearn.model_selection import train_test_split\n",
    "from sklearn.model_selection import GridSearchCV\n",
    "from sklearn.metrics import accuracy_score\n",
    "from scipy.stats import norm\n",
    "from scipy.stats import normaltest\n",
    "import matplotlib.pyplot as plt\n",
    "import graphviz"
   ]
  },
  {
   "cell_type": "markdown",
   "metadata": {},
   "source": [
    "# Import data in csv files"
   ]
  },
  {
   "cell_type": "code",
   "execution_count": 4,
   "metadata": {},
   "outputs": [
    {
     "name": "stderr",
     "output_type": "stream",
     "text": [
      "C:\\Users\\josep\\anaconda3\\lib\\site-packages\\IPython\\core\\interactiveshell.py:3146: DtypeWarning: Columns (10) have mixed types.Specify dtype option on import or set low_memory=False.\n",
      "  has_raised = await self.run_ast_nodes(code_ast.body, cell_name,\n"
     ]
    }
   ],
   "source": [
    "# three files, all in CSV format\n",
    "movie_dir_df = pd.read_csv(\"movie_dir_df.csv\")\n",
    "\n",
    "\n",
    "movie_cast_df = pd.read_csv(\"movie_cast_df.csv\")\n",
    "\n",
    "\n",
    "movies_meta = pd.read_csv(\"movies_metadata.csv\")"
   ]
  },
  {
   "cell_type": "code",
   "execution_count": 5,
   "metadata": {
    "scrolled": false
   },
   "outputs": [
    {
     "data": {
      "text/html": [
       "<div>\n",
       "<style scoped>\n",
       "    .dataframe tbody tr th:only-of-type {\n",
       "        vertical-align: middle;\n",
       "    }\n",
       "\n",
       "    .dataframe tbody tr th {\n",
       "        vertical-align: top;\n",
       "    }\n",
       "\n",
       "    .dataframe thead th {\n",
       "        text-align: right;\n",
       "    }\n",
       "</style>\n",
       "<table border=\"1\" class=\"dataframe\">\n",
       "  <thead>\n",
       "    <tr style=\"text-align: right;\">\n",
       "      <th></th>\n",
       "      <th>directors</th>\n",
       "      <th>tmdb_id</th>\n",
       "      <th>rating</th>\n",
       "      <th>vote_count</th>\n",
       "      <th>title</th>\n",
       "      <th>directors_average_rating</th>\n",
       "    </tr>\n",
       "  </thead>\n",
       "  <tbody>\n",
       "    <tr>\n",
       "      <th>0</th>\n",
       "      <td>['Alastair Fothergill']</td>\n",
       "      <td>192040</td>\n",
       "      <td>8.8</td>\n",
       "      <td>176.0</td>\n",
       "      <td>Planet Earth</td>\n",
       "      <td>7.150000</td>\n",
       "    </tr>\n",
       "    <tr>\n",
       "      <th>1</th>\n",
       "      <td>['Kenji Mizoguchi']</td>\n",
       "      <td>20532</td>\n",
       "      <td>8.7</td>\n",
       "      <td>68.0</td>\n",
       "      <td>山椒大夫</td>\n",
       "      <td>7.650000</td>\n",
       "    </tr>\n",
       "    <tr>\n",
       "      <th>2</th>\n",
       "      <td>['Jonathan Demme']</td>\n",
       "      <td>24128</td>\n",
       "      <td>8.7</td>\n",
       "      <td>47.0</td>\n",
       "      <td>Stop Making Sense</td>\n",
       "      <td>6.457143</td>\n",
       "    </tr>\n",
       "    <tr>\n",
       "      <th>3</th>\n",
       "      <td>['Don Hertzfeldt']</td>\n",
       "      <td>86517</td>\n",
       "      <td>8.6</td>\n",
       "      <td>15.0</td>\n",
       "      <td>It's Such a Beautiful Day</td>\n",
       "      <td>8.066667</td>\n",
       "    </tr>\n",
       "    <tr>\n",
       "      <th>4</th>\n",
       "      <td>['Dino Risi']</td>\n",
       "      <td>56343</td>\n",
       "      <td>8.6</td>\n",
       "      <td>12.0</td>\n",
       "      <td>Una vita difficile</td>\n",
       "      <td>7.455556</td>\n",
       "    </tr>\n",
       "    <tr>\n",
       "      <th>...</th>\n",
       "      <td>...</td>\n",
       "      <td>...</td>\n",
       "      <td>...</td>\n",
       "      <td>...</td>\n",
       "      <td>...</td>\n",
       "      <td>...</td>\n",
       "    </tr>\n",
       "    <tr>\n",
       "      <th>8830</th>\n",
       "      <td>['Herschell Gordon Lewis', 'Bill Rebane']</td>\n",
       "      <td>31119</td>\n",
       "      <td>2.3</td>\n",
       "      <td>14.0</td>\n",
       "      <td>Monster a-Go Go</td>\n",
       "      <td>4.983333</td>\n",
       "    </tr>\n",
       "    <tr>\n",
       "      <th>8831</th>\n",
       "      <td>['\"Joe DAmato\"']</td>\n",
       "      <td>31264</td>\n",
       "      <td>1.9</td>\n",
       "      <td>15.0</td>\n",
       "      <td>Ator l'invincibile 2</td>\n",
       "      <td>4.471429</td>\n",
       "    </tr>\n",
       "    <tr>\n",
       "      <th>8832</th>\n",
       "      <td>['Bob Clark']</td>\n",
       "      <td>31117</td>\n",
       "      <td>1.9</td>\n",
       "      <td>36.0</td>\n",
       "      <td>Superbabies: Baby Geniuses 2</td>\n",
       "      <td>5.430769</td>\n",
       "    </tr>\n",
       "    <tr>\n",
       "      <th>8833</th>\n",
       "      <td>['Joe Carnahan']</td>\n",
       "      <td>38700</td>\n",
       "      <td>0.0</td>\n",
       "      <td>12.0</td>\n",
       "      <td>Bad Boys for Life</td>\n",
       "      <td>5.428571</td>\n",
       "    </tr>\n",
       "    <tr>\n",
       "      <th>8834</th>\n",
       "      <td>['James Cameron']</td>\n",
       "      <td>76600</td>\n",
       "      <td>0.0</td>\n",
       "      <td>58.0</td>\n",
       "      <td>Avatar 2</td>\n",
       "      <td>6.350000</td>\n",
       "    </tr>\n",
       "  </tbody>\n",
       "</table>\n",
       "<p>8835 rows × 6 columns</p>\n",
       "</div>"
      ],
      "text/plain": [
       "                                      directors  tmdb_id  rating  vote_count  \\\n",
       "0                       ['Alastair Fothergill']   192040     8.8       176.0   \n",
       "1                           ['Kenji Mizoguchi']    20532     8.7        68.0   \n",
       "2                            ['Jonathan Demme']    24128     8.7        47.0   \n",
       "3                            ['Don Hertzfeldt']    86517     8.6        15.0   \n",
       "4                                 ['Dino Risi']    56343     8.6        12.0   \n",
       "...                                         ...      ...     ...         ...   \n",
       "8830  ['Herschell Gordon Lewis', 'Bill Rebane']    31119     2.3        14.0   \n",
       "8831                           ['\"Joe DAmato\"']    31264     1.9        15.0   \n",
       "8832                              ['Bob Clark']    31117     1.9        36.0   \n",
       "8833                           ['Joe Carnahan']    38700     0.0        12.0   \n",
       "8834                          ['James Cameron']    76600     0.0        58.0   \n",
       "\n",
       "                             title  directors_average_rating  \n",
       "0                     Planet Earth                  7.150000  \n",
       "1                             山椒大夫                  7.650000  \n",
       "2                Stop Making Sense                  6.457143  \n",
       "3        It's Such a Beautiful Day                  8.066667  \n",
       "4               Una vita difficile                  7.455556  \n",
       "...                            ...                       ...  \n",
       "8830               Monster a-Go Go                  4.983333  \n",
       "8831          Ator l'invincibile 2                  4.471429  \n",
       "8832  Superbabies: Baby Geniuses 2                  5.430769  \n",
       "8833             Bad Boys for Life                  5.428571  \n",
       "8834                      Avatar 2                  6.350000  \n",
       "\n",
       "[8835 rows x 6 columns]"
      ]
     },
     "execution_count": 5,
     "metadata": {},
     "output_type": "execute_result"
    }
   ],
   "source": [
    "movie_dir_df"
   ]
  },
  {
   "cell_type": "markdown",
   "metadata": {},
   "source": [
    "# Sundry data wrangling\n"
   ]
  },
  {
   "cell_type": "code",
   "execution_count": 6,
   "metadata": {
    "scrolled": true
   },
   "outputs": [],
   "source": [
    "# Selected data from each of the three files needs consolidating in one dataframe \n",
    "# ahead of analysis\n",
    "\n",
    "# 'id' used as a the key to join data from each file, vote average the score by movie that is taken to \n",
    "# represent its success, and as such is the label we attempt to predict using director and cast data\n",
    "dir_cast_class_df = movies_meta[['id', 'vote_average']].copy()\n",
    "dir_cast_class_df['id'] = [x.replace(\"-\", \"\") for x in dir_cast_class_df['id']]\n",
    "dir_cast_class_df['id'] = dir_cast_class_df['id'].astype('int')\n",
    "\n",
    "# map director and cast mean ratings to each movie\n",
    "movie_dir_dict = dict(zip(movie_dir_df.tmdb_id, movie_dir_df.directors_average_rating))\n",
    "dir_cast_class_df['dir_mean_rating'] = dir_cast_class_df['id'].map(movie_dir_dict)\n",
    "\n",
    "movie_cast_dict = dict(zip(movie_cast_df.tmdb_id, movie_cast_df.sum_cast_ratings))\n",
    "dir_cast_class_df['cast_sum_rating'] = dir_cast_class_df['id'].map(movie_cast_dict)\n",
    "\n",
    "dir_cast_class_df = dir_cast_class_df.dropna()\n"
   ]
  },
  {
   "cell_type": "code",
   "execution_count": 7,
   "metadata": {},
   "outputs": [
    {
     "data": {
      "text/html": [
       "<div>\n",
       "<style scoped>\n",
       "    .dataframe tbody tr th:only-of-type {\n",
       "        vertical-align: middle;\n",
       "    }\n",
       "\n",
       "    .dataframe tbody tr th {\n",
       "        vertical-align: top;\n",
       "    }\n",
       "\n",
       "    .dataframe thead th {\n",
       "        text-align: right;\n",
       "    }\n",
       "</style>\n",
       "<table border=\"1\" class=\"dataframe\">\n",
       "  <thead>\n",
       "    <tr style=\"text-align: right;\">\n",
       "      <th></th>\n",
       "      <th>id</th>\n",
       "      <th>vote_average</th>\n",
       "      <th>dir_mean_rating</th>\n",
       "      <th>cast_sum_rating</th>\n",
       "    </tr>\n",
       "  </thead>\n",
       "  <tbody>\n",
       "    <tr>\n",
       "      <th>0</th>\n",
       "      <td>862</td>\n",
       "      <td>7.7</td>\n",
       "      <td>6.720000</td>\n",
       "      <td>70.267168</td>\n",
       "    </tr>\n",
       "    <tr>\n",
       "      <th>1</th>\n",
       "      <td>8844</td>\n",
       "      <td>6.9</td>\n",
       "      <td>6.200000</td>\n",
       "      <td>74.102614</td>\n",
       "    </tr>\n",
       "    <tr>\n",
       "      <th>2</th>\n",
       "      <td>15602</td>\n",
       "      <td>6.5</td>\n",
       "      <td>5.960000</td>\n",
       "      <td>44.330132</td>\n",
       "    </tr>\n",
       "    <tr>\n",
       "      <th>4</th>\n",
       "      <td>11862</td>\n",
       "      <td>5.7</td>\n",
       "      <td>5.671429</td>\n",
       "      <td>74.026592</td>\n",
       "    </tr>\n",
       "    <tr>\n",
       "      <th>5</th>\n",
       "      <td>949</td>\n",
       "      <td>7.7</td>\n",
       "      <td>6.645455</td>\n",
       "      <td>198.806786</td>\n",
       "    </tr>\n",
       "    <tr>\n",
       "      <th>...</th>\n",
       "      <td>...</td>\n",
       "      <td>...</td>\n",
       "      <td>...</td>\n",
       "      <td>...</td>\n",
       "    </tr>\n",
       "    <tr>\n",
       "      <th>45436</th>\n",
       "      <td>45527</td>\n",
       "      <td>3.7</td>\n",
       "      <td>4.140000</td>\n",
       "      <td>32.724598</td>\n",
       "    </tr>\n",
       "    <tr>\n",
       "      <th>45443</th>\n",
       "      <td>49279</td>\n",
       "      <td>7.6</td>\n",
       "      <td>6.485000</td>\n",
       "      <td>6.561111</td>\n",
       "    </tr>\n",
       "    <tr>\n",
       "      <th>45446</th>\n",
       "      <td>49271</td>\n",
       "      <td>6.7</td>\n",
       "      <td>6.485000</td>\n",
       "      <td>6.561111</td>\n",
       "    </tr>\n",
       "    <tr>\n",
       "      <th>45450</th>\n",
       "      <td>49280</td>\n",
       "      <td>6.5</td>\n",
       "      <td>6.485000</td>\n",
       "      <td>6.561111</td>\n",
       "    </tr>\n",
       "    <tr>\n",
       "      <th>45460</th>\n",
       "      <td>30840</td>\n",
       "      <td>5.7</td>\n",
       "      <td>5.530000</td>\n",
       "      <td>29.668767</td>\n",
       "    </tr>\n",
       "  </tbody>\n",
       "</table>\n",
       "<p>8475 rows × 4 columns</p>\n",
       "</div>"
      ],
      "text/plain": [
       "          id  vote_average  dir_mean_rating  cast_sum_rating\n",
       "0        862           7.7         6.720000        70.267168\n",
       "1       8844           6.9         6.200000        74.102614\n",
       "2      15602           6.5         5.960000        44.330132\n",
       "4      11862           5.7         5.671429        74.026592\n",
       "5        949           7.7         6.645455       198.806786\n",
       "...      ...           ...              ...              ...\n",
       "45436  45527           3.7         4.140000        32.724598\n",
       "45443  49279           7.6         6.485000         6.561111\n",
       "45446  49271           6.7         6.485000         6.561111\n",
       "45450  49280           6.5         6.485000         6.561111\n",
       "45460  30840           5.7         5.530000        29.668767\n",
       "\n",
       "[8475 rows x 4 columns]"
      ]
     },
     "execution_count": 7,
     "metadata": {},
     "output_type": "execute_result"
    }
   ],
   "source": [
    "# the resulting dataframe\n",
    "dir_cast_class_df"
   ]
  },
  {
   "cell_type": "markdown",
   "metadata": {},
   "source": [
    "# Examine the data"
   ]
  },
  {
   "cell_type": "code",
   "execution_count": 34,
   "metadata": {
    "scrolled": true
   },
   "outputs": [
    {
     "name": "stdout",
     "output_type": "stream",
     "text": [
      "Mean: 6.34 \n",
      "StdDev: 0.58 \n",
      "Dagostino stat: 1111.22 \n",
      "P: 5.020041262620133e-242\n"
     ]
    },
    {
     "data": {
      "image/png": "[encoded data removed]",
      "text/plain": [
       "<Figure size 432x288 with 1 Axes>"
      ]
     },
     "metadata": {
      "needs_background": "light"
     },
     "output_type": "display_data"
    }
   ],
   "source": [
    "# Director mean rating: Discrete ordinal data, distribution deviates from normal\n",
    "dir_mean_rating = dir_cast_class_df['dir_mean_rating']\n",
    "dirrating_hist = plt.hist(dir_mean_rating, bins = 50, range = [4, 9])\n",
    "dirrating_hist = plt.xlabel('dir_mean_rating')\n",
    "dirrating_hist= plt.ylabel('movie count')\n",
    "mu, sigma = norm.fit(dir_mean_rating)\n",
    "stat, p = normaltest(dir_mean_rating)\n",
    "\n",
    "print(f'Mean: {round(mu, 2)} \\nStdDev: {round(sigma,2)} \\nDagostino stat: {round(stat,2)} \\nP: {p}')"
   ]
  },
  {
   "cell_type": "code",
   "execution_count": 35,
   "metadata": {},
   "outputs": [
    {
     "name": "stdout",
     "output_type": "stream",
     "text": [
      "Mean: 57.0 \n",
      "StdDev: 42.87 \n",
      "Dagostino stat: 5899.27 \n",
      "P: 0.0\n"
     ]
    },
    {
     "data": {
      "image/png": "[encoded data removed]",
      "text/plain": [
       "<Figure size 432x288 with 1 Axes>"
      ]
     },
     "metadata": {
      "needs_background": "light"
     },
     "output_type": "display_data"
    }
   ],
   "source": [
    "# Sum cast rating by movie: visual left skew and D'agostino p < 0.05 shows data not normally distributed\n",
    "sum_cast_rating = dir_cast_class_df['cast_sum_rating']\n",
    "dirrating_hist = plt.hist(sum_cast_rating, bins = 50, range = [0,300])\n",
    "dirrating_hist = plt.xlabel('sum_cast_rating')\n",
    "dirrating_hist= plt.ylabel('movie count')\n",
    "mu, sigma = norm.fit(sum_cast_rating)\n",
    "stat, p = normaltest(sum_cast_rating)\n",
    "\n",
    "print(f'Mean: {round(mu, 2)} \\nStdDev: {round(sigma,2)} \\nDagostino stat: {round(stat,2)} \\nP: {p}')"
   ]
  },
  {
   "cell_type": "code",
   "execution_count": 37,
   "metadata": {},
   "outputs": [
    {
     "name": "stdout",
     "output_type": "stream",
     "text": [
      "Mean: 6.34 \n",
      "StdDev: 0.89 \n",
      "Dagostino stat: 499.94 \n",
      "P: 2.7453941557584546e-109\n"
     ]
    },
    {
     "data": {
      "image/png": "[encoded data removed]",
      "text/plain": [
       "<Figure size 432x288 with 1 Axes>"
      ]
     },
     "metadata": {
      "needs_background": "light"
     },
     "output_type": "display_data"
    }
   ],
   "source": [
    "# Target variable - vote average. Discrete ordinal data, deviates from normal distribution\n",
    "vote_ave_hist = plt.hist(vote_average)\n",
    "vote_average_hist = plt.xlabel('vote average')\n",
    "vote_average_hist = plt.ylabel('movie count')\n",
    "mu, sigma = norm.fit(vote_average)\n",
    "stat, p = normaltest(vote_average)\n",
    "\n",
    "print(f'Mean: {round(mu, 2)} \\nStdDev: {round(sigma,2)} \\nDagostino stat: {round(stat,2)} \\nP: {p}')"
   ]
  },
  {
   "cell_type": "markdown",
   "metadata": {},
   "source": [
    "# Discretize target variable for use in decision tree"
   ]
  },
  {
   "cell_type": "code",
   "execution_count": 41,
   "metadata": {},
   "outputs": [],
   "source": [
    "# the value that the decision tree tries to predict is a mean value of scores given on an ordinal scale.\n",
    "# As such, discretizing the data for use in a decision tree seems a reasonable decision\n",
    "# However in order to use gridsearch CV discretization to 5 bins is required in order to provide sufficient instances in \n",
    "# each split, so a decision is made to discretize to 5 scores, recognising that this is somewhat of a compromise\n",
    "# A decision is required as to how to discretize the data\n",
    "# - uniform, i.e. each bin has the same size, or kmeans, in which similar scores are grouped, are considered"
   ]
  },
  {
   "cell_type": "code",
   "execution_count": 42,
   "metadata": {},
   "outputs": [],
   "source": [
    "class_arr = dir_cast_class_df['vote_average'].to_numpy().reshape(-1,1)"
   ]
  },
  {
   "cell_type": "code",
   "execution_count": 43,
   "metadata": {},
   "outputs": [],
   "source": [
    "disc_uni = KBinsDiscretizer(n_bins = 5, encode = 'ordinal', strategy = 'uniform')\n",
    "disc_uni.fit(class_arr)\n",
    "class_arr_ut = disc_uni.transform(class_arr)"
   ]
  },
  {
   "cell_type": "code",
   "execution_count": 44,
   "metadata": {},
   "outputs": [
    {
     "data": {
      "image/png": "[encoded data removed]",
      "text/plain": [
       "<Figure size 432x288 with 1 Axes>"
      ]
     },
     "metadata": {
      "needs_background": "light"
     },
     "output_type": "display_data"
    }
   ],
   "source": [
    "# vote average - the movie average rating, class label. Discretized to 5 to enable Gridsearch CV.\n",
    "vote_average_hist = plt.hist(class_arr_ut, bins = 5, range = [0, 5])\n",
    "vote_average_hist = plt.xlabel('vote average with uniform discretization')\n",
    "vote_average_hist= plt.ylabel('movie count')"
   ]
  },
  {
   "cell_type": "code",
   "execution_count": 45,
   "metadata": {},
   "outputs": [
    {
     "name": "stderr",
     "output_type": "stream",
     "text": [
      "<frozen importlib._bootstrap>:219: RuntimeWarning: numpy.ufunc size changed, may indicate binary incompatibility. Expected 192 from C header, got 216 from PyObject\n"
     ]
    }
   ],
   "source": [
    "# same as above but with kmeans instead of uniform. uniform preserves the actual rating structure.\n",
    "disc_kmean = KBinsDiscretizer(n_bins = 5, encode = 'ordinal', strategy = 'kmeans')\n",
    "disc_kmean.fit(class_arr)\n",
    "class_arr_kt = disc_kmean.transform(class_arr)"
   ]
  },
  {
   "cell_type": "code",
   "execution_count": 46,
   "metadata": {},
   "outputs": [
    {
     "data": {
      "image/png": "[encoded data removed]",
      "text/plain": [
       "<Figure size 432x288 with 1 Axes>"
      ]
     },
     "metadata": {
      "needs_background": "light"
     },
     "output_type": "display_data"
    }
   ],
   "source": [
    "vote_average_hist = plt.hist(class_arr_kt, bins = 5, range = [0, 5])\n",
    "vote_average_hist = plt.xlabel('vote average with k-means discretization')\n",
    "vote_average_hist= plt.ylabel('movie count')"
   ]
  },
  {
   "cell_type": "markdown",
   "metadata": {},
   "source": [
    "# Create decision tree with default parameters"
   ]
  },
  {
   "cell_type": "code",
   "execution_count": null,
   "metadata": {},
   "outputs": [],
   "source": []
  },
  {
   "cell_type": "code",
   "execution_count": 47,
   "metadata": {},
   "outputs": [],
   "source": [
    "# create input for training algorithm from dataframe. Create test/train splits.\n",
    "att_arr = dir_cast_class_df[['dir_mean_rating', 'cast_sum_rating']].to_numpy()\n",
    "X_train, X_test, y_train, y_test = train_test_split(att_arr, class_arr_ut, test_size = 0.2, random_state = 42)"
   ]
  },
  {
   "cell_type": "code",
   "execution_count": 48,
   "metadata": {},
   "outputs": [],
   "source": [
    "# method for consistent evaluation of decision tree results and contribution of each variable to splits\n",
    "def evaluate_decision_tree (tree, X_train, X_test, y_train, y_test):\n",
    "    train_score = tree.score(X_train, y_train)\n",
    "    test_score = tree.score(X_test, y_test) \n",
    "    importance = tree.feature_importances_\n",
    "    print(\"Depth:\", tree.get_depth(), \"\\nLeaves:\", tree.get_n_leaves(), '\\nTrain score:', round(train_score, 2), '\\nTest score:', round(test_score, 2))\n",
    "    for i,v in enumerate(importance):\n",
    "        print('Feature: %0d, Score: %.5f' % (i,v))"
   ]
  },
  {
   "cell_type": "code",
   "execution_count": 49,
   "metadata": {},
   "outputs": [
    {
     "name": "stdout",
     "output_type": "stream",
     "text": [
      "Depth: 38 \n",
      "Leaves: 2852 \n",
      "Train score: 1.0 \n",
      "Test score: 0.51\n",
      "Feature: 0, Score: 0.42635\n",
      "Feature: 1, Score: 0.57365\n"
     ]
    }
   ],
   "source": [
    "# Baseline: with default parameters, uniform discretised classifier and continuous attributes: \n",
    "# huge tree, poor validation score\n",
    "clf = DecisionTreeClassifier()\n",
    "clf.fit(X_train, y_train)\n",
    "evaluate_decision_tree(clf, X_train, X_test, y_train, y_test)"
   ]
  },
  {
   "cell_type": "code",
   "execution_count": 50,
   "metadata": {},
   "outputs": [
    {
     "name": "stdout",
     "output_type": "stream",
     "text": [
      "Depth: 6 \n",
      "Leaves: 59 \n",
      "Train score: 0.66 \n",
      "Test score: 0.63\n",
      "Feature: 0, Score: 0.85239\n",
      "Feature: 1, Score: 0.14761\n"
     ]
    }
   ],
   "source": [
    "# Experimentally reducing depth of tree improves test and train scores considerably\n",
    "clf_depth6 = DecisionTreeClassifier(max_depth = 6)\n",
    "clf_depth6.fit(X_train, y_train)\n",
    "evaluate_decision_tree(clf_depth6, X_train, X_test, y_train, y_test)"
   ]
  },
  {
   "cell_type": "markdown",
   "metadata": {},
   "source": [
    "# Use gridsearch cv to establish best parameter combination"
   ]
  },
  {
   "cell_type": "code",
   "execution_count": 51,
   "metadata": {},
   "outputs": [],
   "source": [
    "# An improvement in results was shown in having a smaller tree.\n",
    "# As a result, cost complexity pruning hyper parameter used to reduce the size of the tree. \n",
    "# We're looking for the improvement compared to the baseline, \n",
    "# with strong validation score (i.e. similar to train score) suggesting that the tree is not overfitted to the data\n",
    "params = {'ccp_alpha': [0.0004, 0.0005, 0.0006, 0.0007]} \n",
    "clf_gs = GridSearchCV(DecisionTreeClassifier(), params, cv = 3, return_train_score = True, estimator = 'accuracy',)"
   ]
  },
  {
   "cell_type": "code",
   "execution_count": 52,
   "metadata": {},
   "outputs": [
    {
     "data": {
      "text/plain": [
       "GridSearchCV(cv=3, estimator=DecisionTreeClassifier(),\n",
       "             param_grid={'ccp_alpha': [0.0004, 0.0005, 0.0006, 0.0007]},\n",
       "             return_train_score=True)"
      ]
     },
     "execution_count": 52,
     "metadata": {},
     "output_type": "execute_result"
    }
   ],
   "source": [
    "clf_gs.fit(X_train, y_train)"
   ]
  },
  {
   "cell_type": "code",
   "execution_count": 53,
   "metadata": {},
   "outputs": [],
   "source": [
    "results_df = pd.DataFrame(clf_gs.cv_results_)"
   ]
  },
  {
   "cell_type": "code",
   "execution_count": 54,
   "metadata": {},
   "outputs": [
    {
     "data": {
      "text/html": [
       "<div>\n",
       "<style scoped>\n",
       "    .dataframe tbody tr th:only-of-type {\n",
       "        vertical-align: middle;\n",
       "    }\n",
       "\n",
       "    .dataframe tbody tr th {\n",
       "        vertical-align: top;\n",
       "    }\n",
       "\n",
       "    .dataframe thead th {\n",
       "        text-align: right;\n",
       "    }\n",
       "</style>\n",
       "<table border=\"1\" class=\"dataframe\">\n",
       "  <thead>\n",
       "    <tr style=\"text-align: right;\">\n",
       "      <th></th>\n",
       "      <th>mean_fit_time</th>\n",
       "      <th>std_fit_time</th>\n",
       "      <th>mean_score_time</th>\n",
       "      <th>std_score_time</th>\n",
       "      <th>param_ccp_alpha</th>\n",
       "      <th>params</th>\n",
       "      <th>split0_test_score</th>\n",
       "      <th>split1_test_score</th>\n",
       "      <th>split2_test_score</th>\n",
       "      <th>mean_test_score</th>\n",
       "      <th>std_test_score</th>\n",
       "      <th>rank_test_score</th>\n",
       "      <th>split0_train_score</th>\n",
       "      <th>split1_train_score</th>\n",
       "      <th>split2_train_score</th>\n",
       "      <th>mean_train_score</th>\n",
       "      <th>std_train_score</th>\n",
       "    </tr>\n",
       "  </thead>\n",
       "  <tbody>\n",
       "    <tr>\n",
       "      <th>3</th>\n",
       "      <td>0.017313</td>\n",
       "      <td>0.002050</td>\n",
       "      <td>0.000665</td>\n",
       "      <td>4.699107e-04</td>\n",
       "      <td>0.0007</td>\n",
       "      <td>{'ccp_alpha': 0.0007}</td>\n",
       "      <td>0.639823</td>\n",
       "      <td>0.628761</td>\n",
       "      <td>0.630088</td>\n",
       "      <td>0.632891</td>\n",
       "      <td>0.004932</td>\n",
       "      <td>1</td>\n",
       "      <td>0.651106</td>\n",
       "      <td>0.653982</td>\n",
       "      <td>0.653761</td>\n",
       "      <td>0.652950</td>\n",
       "      <td>0.001307</td>\n",
       "    </tr>\n",
       "    <tr>\n",
       "      <th>2</th>\n",
       "      <td>0.014969</td>\n",
       "      <td>0.000013</td>\n",
       "      <td>0.000998</td>\n",
       "      <td>1.123916e-07</td>\n",
       "      <td>0.0006</td>\n",
       "      <td>{'ccp_alpha': 0.0006}</td>\n",
       "      <td>0.636283</td>\n",
       "      <td>0.631416</td>\n",
       "      <td>0.628761</td>\n",
       "      <td>0.632153</td>\n",
       "      <td>0.003115</td>\n",
       "      <td>2</td>\n",
       "      <td>0.659292</td>\n",
       "      <td>0.659292</td>\n",
       "      <td>0.662389</td>\n",
       "      <td>0.660324</td>\n",
       "      <td>0.001460</td>\n",
       "    </tr>\n",
       "    <tr>\n",
       "      <th>1</th>\n",
       "      <td>0.014872</td>\n",
       "      <td>0.000666</td>\n",
       "      <td>0.000666</td>\n",
       "      <td>4.710923e-04</td>\n",
       "      <td>0.0005</td>\n",
       "      <td>{'ccp_alpha': 0.0005}</td>\n",
       "      <td>0.626549</td>\n",
       "      <td>0.611947</td>\n",
       "      <td>0.620354</td>\n",
       "      <td>0.619617</td>\n",
       "      <td>0.005984</td>\n",
       "      <td>3</td>\n",
       "      <td>0.676106</td>\n",
       "      <td>0.677212</td>\n",
       "      <td>0.679425</td>\n",
       "      <td>0.677581</td>\n",
       "      <td>0.001380</td>\n",
       "    </tr>\n",
       "  </tbody>\n",
       "</table>\n",
       "</div>"
      ],
      "text/plain": [
       "   mean_fit_time  std_fit_time  mean_score_time  std_score_time  \\\n",
       "3       0.017313      0.002050         0.000665    4.699107e-04   \n",
       "2       0.014969      0.000013         0.000998    1.123916e-07   \n",
       "1       0.014872      0.000666         0.000666    4.710923e-04   \n",
       "\n",
       "  param_ccp_alpha                 params  split0_test_score  \\\n",
       "3          0.0007  {'ccp_alpha': 0.0007}           0.639823   \n",
       "2          0.0006  {'ccp_alpha': 0.0006}           0.636283   \n",
       "1          0.0005  {'ccp_alpha': 0.0005}           0.626549   \n",
       "\n",
       "   split1_test_score  split2_test_score  mean_test_score  std_test_score  \\\n",
       "3           0.628761           0.630088         0.632891        0.004932   \n",
       "2           0.631416           0.628761         0.632153        0.003115   \n",
       "1           0.611947           0.620354         0.619617        0.005984   \n",
       "\n",
       "   rank_test_score  split0_train_score  split1_train_score  \\\n",
       "3                1            0.651106            0.653982   \n",
       "2                2            0.659292            0.659292   \n",
       "1                3            0.676106            0.677212   \n",
       "\n",
       "   split2_train_score  mean_train_score  std_train_score  \n",
       "3            0.653761          0.652950         0.001307  \n",
       "2            0.662389          0.660324         0.001460  \n",
       "1            0.679425          0.677581         0.001380  "
      ]
     },
     "execution_count": 54,
     "metadata": {},
     "output_type": "execute_result"
    }
   ],
   "source": [
    "# ccp alpha at 0.0006 provides the best validation score\n",
    "results_df.sort_values(['rank_test_score']).head(3)"
   ]
  },
  {
   "cell_type": "code",
   "execution_count": 23,
   "metadata": {
    "scrolled": true
   },
   "outputs": [
    {
     "data": {
      "text/plain": [
       "0.6412979351032448"
      ]
     },
     "execution_count": 23,
     "metadata": {},
     "output_type": "execute_result"
    }
   ],
   "source": [
    "# the CV results provide validation only, not test accuracy. \n",
    "# Unbiased test of optimum paramters fround in cross validation to establish generalisation score. \n",
    "# the test score is in line with the validation scores, suggesting that the tree is not overfit to the data\n",
    "# So we can conclude that we have have tuned parameters effectively\n",
    "clf_gs.score(X_test, y_test)"
   ]
  },
  {
   "cell_type": "markdown",
   "metadata": {},
   "source": [
    "# Create decision tree with best parameter combination"
   ]
  },
  {
   "cell_type": "code",
   "execution_count": 55,
   "metadata": {},
   "outputs": [
    {
     "name": "stdout",
     "output_type": "stream",
     "text": [
      "Depth: 7 \n",
      "Leaves: 16 \n",
      "Train score: 0.65 \n",
      "Test score: 0.65\n",
      "Feature: 0, Score: 0.92974\n",
      "Feature: 1, Score: 0.07026\n"
     ]
    }
   ],
   "source": [
    "# This concludes the project:\n",
    "# We have tuned the decision tree to ensure good generalisation without overfitting\n",
    "# feature_score_importances_ method used to establish which of the two features is most important in splitting the data\n",
    "clf_best = DecisionTreeClassifier(ccp_alpha = 0.0007)\n",
    "clf_best.fit(X_train, y_train)\n",
    "evaluate_decision_tree(clf_best, X_train, X_test, y_train, y_test)"
   ]
  }
 ],
 "metadata": {
  "kernelspec": {
   "display_name": "Python 3",
   "language": "python",
   "name": "python3"
  },
  "language_info": {
   "codemirror_mode": {
    "name": "ipython",
    "version": 3
   },
   "file_extension": ".py",
   "mimetype": "text/x-python",
   "name": "python",
   "nbconvert_exporter": "python",
   "pygments_lexer": "ipython3",
   "version": "3.8.5"
  }
 },
 "nbformat": 4,
 "nbformat_minor": 4
}
